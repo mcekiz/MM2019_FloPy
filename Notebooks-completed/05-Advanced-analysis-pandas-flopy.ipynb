{
 "cells": [
  {
   "cell_type": "markdown",
   "metadata": {},
   "source": [
    "# Advanced analysis with `pandas` and `FloPy`\n",
    "\n",
    "This exercise, we will load and existing model into Flopy, run the model and then use [pandas](https://pandas.pydata.org/), [matplotlib](https://matplotlib.org/) and [numpy](https://www.numpy.org/) to look at the results and compare them to observed data. Including:\n",
    "* reading tabular data from a file or url using the powerful `read_csv` method\n",
    "* geting `pandas.DataFrame`s of Hydmod, SFR, and global mass balance output\n",
    "* converting model times to real date-times to allow plotting against other temporally-referenced data\n",
    "* quickly subsetting data by category, attribute values, times, index position, etc.\n",
    "* computing quantiles and other basic statistics\n",
    "* making plots using `matplotlib` and the built-in hooks to it in `pandas`\n",
    "\n",
    "The example model is a TMR inset of the Little Plover River model set in central WI, which is documented by Bradbury and others (2017). The parent model files and report are avaible [here](https://wgnhs.wisc.edu/little-plover-river-groundwater-model/). The TMR inset encompasses the Little Plover River down to the Hoover Ave. bridge in Plover, WI, and the calendar year of 2014. Unconfined groundwater flow in the underlying glacial outwash, and base flow in the Little Plover River are simulated. Constant heads are used for the perimeter boundaries. The properties are mostly the same as the parent model.\n",
    "\n",
    "![](../data/lpr_inset/figs/lpr_inset.png)\n",
    "\n",
    "\n",
    "**Reference:**\n",
    "Bradbury, K.R., Fienen, M.N., Kniffin, M.L., Krause, J.J., Westenbroek, S.M., Leaf, A.T., and Barlow, P.M., 2017, Groundwater flow model for the Little Plover River basin in Wisconsin’s Central Sands: Wisconsin Geological and Natural History Survey Bulletin 111, 82 p."
   ]
  },
  {
   "cell_type": "code",
   "execution_count": null,
   "metadata": {},
   "outputs": [],
   "source": [
    "import os\n",
    "import flopy\n",
    "fm = flopy.modflow\n",
    "import numpy as np\n",
    "import pandas as pd\n",
    "import matplotlib.pyplot as plt\n",
    "\n",
    "%matplotlib inline"
   ]
  },
  {
   "cell_type": "code",
   "execution_count": null,
   "metadata": {},
   "outputs": [],
   "source": [
    "plt.rcParams['figure.figsize'] = (11, 8.5)"
   ]
  },
  {
   "cell_type": "markdown",
   "metadata": {},
   "source": [
    "### inputs"
   ]
  },
  {
   "cell_type": "code",
   "execution_count": null,
   "metadata": {},
   "outputs": [],
   "source": [
    "namefile = 'lpr_inset.nam'\n",
    "model_ws = '../data/lpr_inset/'\n",
    "listingfile = '{}/lpr_inset.list'.format(model_ws)\n",
    "gagefile = '{}/5400625lpr.ggo'.format(model_ws)\n",
    "start_datetime = '2014-01-01'\n",
    "\n",
    "gage_data_url = 'https://nwis.waterdata.usgs.gov/wi/nwis/uv?&format=rdb&site_no=05400625&period=&begin_date=2014-01-01&end_date=2014-12-31'"
   ]
  },
  {
   "cell_type": "markdown",
   "metadata": {},
   "source": [
    "### load the model"
   ]
  },
  {
   "cell_type": "code",
   "execution_count": null,
   "metadata": {},
   "outputs": [],
   "source": [
    "m = fm.Modflow.load(namefile, model_ws=model_ws)\n",
    "m.get_package_list()"
   ]
  },
  {
   "cell_type": "code",
   "execution_count": null,
   "metadata": {},
   "outputs": [],
   "source": [
    "m"
   ]
  },
  {
   "cell_type": "markdown",
   "metadata": {},
   "source": [
    "### plot the K field in layer 1"
   ]
  },
  {
   "cell_type": "code",
   "execution_count": null,
   "metadata": {},
   "outputs": [],
   "source": [
    "plt.imshow(m.upw.hk.array[0], vmax=350)\n",
    "plt.colorbar()"
   ]
  },
  {
   "cell_type": "markdown",
   "metadata": {},
   "source": [
    "### plot recharge for the model period\n",
    "convert from feet per day to annual inches"
   ]
  },
  {
   "cell_type": "code",
   "execution_count": null,
   "metadata": {},
   "outputs": [],
   "source": [
    "m.rch.rech.array.shape"
   ]
  },
  {
   "cell_type": "code",
   "execution_count": null,
   "metadata": {},
   "outputs": [],
   "source": [
    "r_in = m.rch.rech.array[:, 0, :, :] * 12\n",
    "plt.imshow(r_in.sum(axis=0) * 30.4)\n",
    "plt.colorbar()"
   ]
  },
  {
   "cell_type": "markdown",
   "metadata": {},
   "source": [
    "### spatial mean of recharge through time\n",
    "convert from feet per day to average monthly totals (in inches) for model area"
   ]
  },
  {
   "cell_type": "code",
   "execution_count": null,
   "metadata": {},
   "outputs": [],
   "source": [
    "plt.bar(range(12), r_in.mean(axis=(1, 2)) * 30.4)"
   ]
  },
  {
   "cell_type": "markdown",
   "metadata": {},
   "source": [
    "### set the executable\n",
    "\n",
    "on Windows: `../bin/mfnwt.exe`"
   ]
  },
  {
   "cell_type": "code",
   "execution_count": null,
   "metadata": {},
   "outputs": [],
   "source": [
    "m.exe_name = os.path.abspath('../bin/mfnwt')"
   ]
  },
  {
   "cell_type": "code",
   "execution_count": null,
   "metadata": {},
   "outputs": [],
   "source": [
    "m.run_model()"
   ]
  },
  {
   "cell_type": "markdown",
   "metadata": {},
   "source": [
    "## Looking at results using pandas"
   ]
  },
  {
   "cell_type": "markdown",
   "metadata": {},
   "source": [
    "#### loading the gage file using `read_csv`"
   ]
  },
  {
   "cell_type": "code",
   "execution_count": null,
   "metadata": {},
   "outputs": [],
   "source": [
    "ggo = pd.read_csv(gagefile, skiprows=1, header=None, delim_whitespace=True, names=['time', 'stage', 'flow'])"
   ]
  },
  {
   "cell_type": "code",
   "execution_count": null,
   "metadata": {},
   "outputs": [],
   "source": [
    "ggo.head()"
   ]
  },
  {
   "cell_type": "markdown",
   "metadata": {},
   "source": [
    "#### convert times in gage output to real date times"
   ]
  },
  {
   "cell_type": "code",
   "execution_count": null,
   "metadata": {},
   "outputs": [],
   "source": [
    "start_ts = pd.Timestamp(start_datetime)\n",
    "start_ts"
   ]
  },
  {
   "cell_type": "code",
   "execution_count": null,
   "metadata": {},
   "outputs": [],
   "source": [
    "pd.to_timedelta(ggo.time, unit='D').head()"
   ]
  },
  {
   "cell_type": "code",
   "execution_count": null,
   "metadata": {},
   "outputs": [],
   "source": [
    "ggo['datetime'] = pd.to_timedelta(ggo.time, unit='D') + start_ts\n",
    "ggo.index = ggo.datetime\n",
    "ggo.head()"
   ]
  },
  {
   "cell_type": "code",
   "execution_count": null,
   "metadata": {},
   "outputs": [],
   "source": [
    "ggo.flow.plot()"
   ]
  },
  {
   "cell_type": "markdown",
   "metadata": {},
   "source": [
    "### What if we only want to plot flow results for the last timestep of each stress period?\n",
    "\n",
    "#### make lists of the period and timestep at each row in the gage package output"
   ]
  },
  {
   "cell_type": "code",
   "execution_count": null,
   "metadata": {},
   "outputs": [],
   "source": [
    "m.dis.nstp.array"
   ]
  },
  {
   "cell_type": "code",
   "execution_count": null,
   "metadata": {},
   "outputs": [],
   "source": [
    "kstp = []\n",
    "kper = []\n",
    "for i, nstp in enumerate(m.dis.nstp.array):\n",
    "    for j in range(nstp):\n",
    "        kstp.append(j)\n",
    "        kper.append(i)\n",
    "len(kstp)"
   ]
  },
  {
   "cell_type": "code",
   "execution_count": null,
   "metadata": {},
   "outputs": [],
   "source": [
    "ggo['kstp'] = kstp\n",
    "ggo['kper'] = kper\n",
    "ggo.head()"
   ]
  },
  {
   "cell_type": "markdown",
   "metadata": {},
   "source": [
    "### Get the last timesteps using `groupby`"
   ]
  },
  {
   "cell_type": "code",
   "execution_count": null,
   "metadata": {},
   "outputs": [],
   "source": [
    "ggo_last = ggo.groupby(ggo.kper).last()\n",
    "ggo_last.index = ggo_last.datetime\n",
    "ggo_last"
   ]
  },
  {
   "cell_type": "code",
   "execution_count": null,
   "metadata": {},
   "outputs": [],
   "source": [
    "ax = ggo_last.flow.plot(marker='o')\n",
    "ggo.flow.plot(ax=ax)"
   ]
  },
  {
   "cell_type": "markdown",
   "metadata": {},
   "source": [
    "Some Flopy utilities can return model results in DataFrames.\n",
    "\n",
    "### Get model mass balance information from the listing file"
   ]
  },
  {
   "cell_type": "code",
   "execution_count": null,
   "metadata": {},
   "outputs": [],
   "source": [
    "from flopy.utils import MfListBudget"
   ]
  },
  {
   "cell_type": "code",
   "execution_count": null,
   "metadata": {},
   "outputs": [],
   "source": [
    "mfl = MfListBudget('{}/{}.list'.format(model_ws, m.name))"
   ]
  },
  {
   "cell_type": "code",
   "execution_count": null,
   "metadata": {},
   "outputs": [],
   "source": [
    "df_flux, df_vol = mfl.get_dataframes(start_datetime='01-01-2014')"
   ]
  },
  {
   "cell_type": "code",
   "execution_count": null,
   "metadata": {},
   "outputs": [],
   "source": [
    "df_flux.head()"
   ]
  },
  {
   "cell_type": "markdown",
   "metadata": {},
   "source": [
    "### plot some of the components against gage output\n",
    "\n",
    "If we want to have more control over a plot, it often makes sense to use `matplotlib.pyplot` instead of the `DataFrame.plot()` methods."
   ]
  },
  {
   "cell_type": "code",
   "execution_count": null,
   "metadata": {},
   "outputs": [],
   "source": [
    "nbars = 2\n",
    "width = 1/(nbars+2)\n",
    "xvalues = np.arange(12)+1\n",
    "\n",
    "fig, axes = plt.subplots(2, 1)\n",
    "ax = axes.flat[0]\n",
    "ax.bar(xvalues-width, -df_flux.WELLS_OUT, width=width, label='pumping', color='C1')\n",
    "ax.bar(xvalues, df_flux.RECHARGE_IN, width=width, label='recharge', color='C0', alpha=0.5)\n",
    "ax.bar(xvalues+width, df_flux.CONSTANT_HEAD_IN, width=width, label='constant head in', color='C2')\n",
    "ax.bar(xvalues+width, -df_flux.CONSTANT_HEAD_OUT, width=width, label='constant head out', color='DarkGreen')\n",
    "\n",
    "ax2 = axes.flat[1]\n",
    "ax2.plot(xvalues, ggo_last.flow/86400)\n",
    "ax.legend(bbox_to_anchor=(1., 1.05))"
   ]
  },
  {
   "cell_type": "markdown",
   "metadata": {},
   "source": [
    "### Compare gage output to actual gage data from the web"
   ]
  },
  {
   "cell_type": "code",
   "execution_count": null,
   "metadata": {},
   "outputs": [],
   "source": [
    "gage_data_url"
   ]
  },
  {
   "cell_type": "markdown",
   "metadata": {},
   "source": [
    "### get data for site 5400625 in rdb format, using `read_csv`\n",
    "\n",
    "or to use an already-downloaded text file, substitute `'../data/lpr_inset/05400625.txt'` for `gage_data_url`"
   ]
  },
  {
   "cell_type": "code",
   "execution_count": null,
   "metadata": {},
   "outputs": [],
   "source": [
    "df = pd.read_csv(gage_data_url, skiprows=30, header=None, sep='\\t')\n",
    "df.head()"
   ]
  },
  {
   "cell_type": "code",
   "execution_count": null,
   "metadata": {},
   "outputs": [],
   "source": [
    "'../data/lpr_inset/05400625.txt'"
   ]
  },
  {
   "cell_type": "markdown",
   "metadata": {},
   "source": [
    "### convert times to pandas datetimes\n",
    "\n",
    "flow values are in column 4 in cubic feet per second"
   ]
  },
  {
   "cell_type": "code",
   "execution_count": null,
   "metadata": {},
   "outputs": [],
   "source": [
    "df.index = pd.to_datetime(df[2])\n",
    "df.head()"
   ]
  },
  {
   "cell_type": "markdown",
   "metadata": {},
   "source": [
    "### convert monthly gage package results to cfs"
   ]
  },
  {
   "cell_type": "code",
   "execution_count": null,
   "metadata": {},
   "outputs": [],
   "source": [
    "ggo_last['flow_cfs'] = ggo_last['flow'] / 86400\n",
    "ggo_last.head()"
   ]
  },
  {
   "cell_type": "code",
   "execution_count": null,
   "metadata": {},
   "outputs": [],
   "source": [
    "fig, ax = plt.subplots()\n",
    "ggo_last.flow_cfs.plot(ax=ax, label=\"Modeled\")\n",
    "df[4].plot(ax=ax, label=\"Actual\")\n",
    "ax.legend()\n",
    "ax.set_xlabel(\"Time\")"
   ]
  },
  {
   "cell_type": "markdown",
   "metadata": {},
   "source": [
    "### convert gage results to monthly averages for flows less than q threshold percentile\n",
    "\n",
    "align timestamps with gage results"
   ]
  },
  {
   "cell_type": "code",
   "execution_count": null,
   "metadata": {},
   "outputs": [],
   "source": [
    "qthresh = 0.5 #threshold percentile for flow values\n",
    "quant = df[4].quantile(qthresh) #The value below which qthresh (0<=qthresh<=1) of the data\n",
    "quant"
   ]
  },
  {
   "cell_type": "code",
   "execution_count": null,
   "metadata": {},
   "outputs": [],
   "source": [
    "df[4].loc[df[4] < quant].plot()"
   ]
  },
  {
   "cell_type": "code",
   "execution_count": null,
   "metadata": {},
   "outputs": [],
   "source": [
    "dfq = df[4].loc[df[4] < quant]\n",
    "dfm = dfq.groupby(dfq.index.month).mean()\n",
    "dfm"
   ]
  },
  {
   "cell_type": "markdown",
   "metadata": {},
   "source": [
    "### create end of month times for monthly gage data averages so they plot with gage package output"
   ]
  },
  {
   "cell_type": "code",
   "execution_count": null,
   "metadata": {},
   "outputs": [],
   "source": [
    "start_ts"
   ]
  },
  {
   "cell_type": "code",
   "execution_count": null,
   "metadata": {},
   "outputs": [],
   "source": [
    "pd.date_range('2014-03', '2014-12', freq='M')"
   ]
  },
  {
   "cell_type": "code",
   "execution_count": null,
   "metadata": {},
   "outputs": [],
   "source": [
    "dfm.index = pd.date_range('2014-03', '2015-01', freq='M')\n",
    "dfm"
   ]
  },
  {
   "cell_type": "code",
   "execution_count": null,
   "metadata": {},
   "outputs": [],
   "source": [
    "ax = ggo_last.flow_cfs.plot(label='gage output')\n",
    "dfm.plot(ax=ax, label='data for 05400625')\n",
    "ax.legend()"
   ]
  },
  {
   "cell_type": "code",
   "execution_count": null,
   "metadata": {},
   "outputs": [],
   "source": [
    "dfm"
   ]
  },
  {
   "cell_type": "code",
   "execution_count": null,
   "metadata": {},
   "outputs": [],
   "source": [
    "ggo_last"
   ]
  },
  {
   "cell_type": "markdown",
   "metadata": {},
   "source": [
    "## Hydmod"
   ]
  },
  {
   "cell_type": "code",
   "execution_count": null,
   "metadata": {},
   "outputs": [],
   "source": [
    "from flopy.utils import HydmodObs"
   ]
  },
  {
   "cell_type": "code",
   "execution_count": null,
   "metadata": {},
   "outputs": [],
   "source": [
    "hydobj = HydmodObs('{}/{}.hyd.bin'.format(m.model_ws, m.name))\n",
    "hyd = pd.DataFrame(hydobj.get_data())\n",
    "hyd.head()"
   ]
  },
  {
   "cell_type": "markdown",
   "metadata": {},
   "source": [
    "## Look at SFR water balance output (time pending)"
   ]
  },
  {
   "cell_type": "code",
   "execution_count": null,
   "metadata": {},
   "outputs": [],
   "source": [
    "from flopy.utils import SfrFile"
   ]
  },
  {
   "cell_type": "code",
   "execution_count": null,
   "metadata": {},
   "outputs": [],
   "source": [
    "sfrobj = SfrFile('{}/{}.sfr.out'.format(m.model_ws, m.name))"
   ]
  },
  {
   "cell_type": "markdown",
   "metadata": {},
   "source": [
    "### get dataframe of SFR results"
   ]
  },
  {
   "cell_type": "code",
   "execution_count": null,
   "metadata": {},
   "outputs": [],
   "source": [
    "sfrdata = sfrobj.df.copy()"
   ]
  },
  {
   "cell_type": "code",
   "execution_count": null,
   "metadata": {},
   "outputs": [],
   "source": [
    "sfrdata.head()"
   ]
  },
  {
   "cell_type": "markdown",
   "metadata": {},
   "source": [
    "### plot the groundwater/surfacewater interactions for a segment\n",
    "\n",
    "get the distance information from the SFR package input"
   ]
  },
  {
   "cell_type": "code",
   "execution_count": null,
   "metadata": {},
   "outputs": [],
   "source": [
    "seg11 = sfrdata.loc[(sfrdata.segment == 11) & (sfrdata.kstpkper == (4, 6)), ['Qout', 'Qaquifer']]\n",
    "\n",
    "# get the reach data for SFR package\n",
    "rd = pd.DataFrame(m.sfr.reach_data)\n",
    "rd.head()"
   ]
  },
  {
   "cell_type": "code",
   "execution_count": null,
   "metadata": {},
   "outputs": [],
   "source": [
    "dist = rd.loc[rd.iseg == 11, 'rchlen'].cumsum().tolist()\n",
    "dist[0:10]"
   ]
  },
  {
   "cell_type": "code",
   "execution_count": null,
   "metadata": {},
   "outputs": [],
   "source": [
    "seg11.index = dist"
   ]
  },
  {
   "cell_type": "code",
   "execution_count": null,
   "metadata": {},
   "outputs": [],
   "source": [
    "ax = seg11.plot()\n",
    "ax.axhline(0, color='k', zorder=-1, lw=0.5)"
   ]
  },
  {
   "cell_type": "markdown",
   "metadata": {},
   "source": [
    "### make a quick and dirty map of groundwater/surface water interactions"
   ]
  },
  {
   "cell_type": "code",
   "execution_count": null,
   "metadata": {},
   "outputs": [],
   "source": [
    "arr = np.zeros((m.nrow, m.ncol), dtype=float) * np.nan\n",
    "\n",
    "i = sfrdata.loc[sfrdata.kstpkper == (4, 6), 'i']\n",
    "j = sfrdata.loc[sfrdata.kstpkper == (4, 6), 'j']\n",
    "qgw = sfrdata.loc[sfrdata.kstpkper == (4, 6), 'Qaquifer']\n",
    "arr[i, j] = qgw"
   ]
  },
  {
   "cell_type": "code",
   "execution_count": null,
   "metadata": {},
   "outputs": [],
   "source": [
    "plt.imshow(arr)\n",
    "plt.colorbar()"
   ]
  },
  {
   "cell_type": "code",
   "execution_count": null,
   "metadata": {},
   "outputs": [],
   "source": [
    "losing = arr.copy()\n",
    "losing[losing <= 0] = np.nan\n",
    "gaining = arr.copy()\n",
    "gaining[gaining >= 0] = np.nan\n",
    "im = plt.imshow(losing, cmap='Reds')\n",
    "im2 = plt.imshow(gaining, cmap='Blues_r')\n",
    "plt.colorbar(im)\n",
    "plt.colorbar(im2)"
   ]
  },
  {
   "cell_type": "code",
   "execution_count": null,
   "metadata": {},
   "outputs": [],
   "source": []
  }
 ],
 "metadata": {
  "kernelspec": {
   "display_name": "Python 3",
   "language": "python",
   "name": "python3"
  },
  "language_info": {
   "codemirror_mode": {
    "name": "ipython",
    "version": 3
   },
   "file_extension": ".py",
   "mimetype": "text/x-python",
   "name": "python",
   "nbconvert_exporter": "python",
   "pygments_lexer": "ipython3",
   "version": "3.7.3"
  }
 },
 "nbformat": 4,
 "nbformat_minor": 2
}
